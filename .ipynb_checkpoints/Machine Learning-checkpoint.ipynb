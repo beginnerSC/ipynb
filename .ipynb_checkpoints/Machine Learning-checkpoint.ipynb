{
 "cells": [
  {
   "cell_type": "markdown",
   "metadata": {},
   "source": [
    "# Categories of ML Algorithms\n",
    "\n",
    "* Supervised Learning\n",
    "    \n",
    "    * Classification: Naive Bayes Classifiers, Decision Trees, ANN, Nearest Neighbors, Random Forest, SVM\n",
    "    * Regression\n",
    "    \n",
    "* Unsupervised Learning\n",
    "\n",
    "    * Clustering Algorithms: K-means, Hierarchical Clustering\n",
    "    \n",
    "* Reinforcement Learning\n",
    "\n",
    "    * Markov Decision Process\n",
    "    \n",
    "Gathering quality tagged training data is a common problem for supervised learning\n"
   ]
  },
  {
   "cell_type": "markdown",
   "metadata": {},
   "source": [
    "# Feature Engineering\n",
    "\n",
    "One of the most important aspects of ML is the process of providing quality features to your algorithm.\n",
    "\n",
    "* Feature extraction\n",
    "\n",
    "    * The process of getting useful feature from the raw data\n",
    "    * Instead of just the image, feed the algorithm with higher level features like \"contain the face of a person or not\" or \"the skin color\"\n",
    "    * The higher level features' calculation may be done by other Machine Learning algorithms!\n",
    "    * With better feature extraction, algorithm will learn better with less training examples, reducingthe time needed to train the model\n",
    "\n",
    "* Feature selection\n",
    "\n",
    "    * Feature selection algorithms score each feature and return only they most valuable ones according to that score.\n",
    "    * Avoid using huge feature sets. As we get more features, we have to get much many instances to represent a decent amount of the combinations. This is the curse of dimensionality\n",
    "    * As the complexity of the model grows, the number of training examples needed grows exponentially\n",
    "    "
   ]
  },
  {
   "cell_type": "markdown",
   "metadata": {},
   "source": [
    "# Training Examples\n",
    "\n",
    "* Get quality training data; do not feed supervised learning algorithm with wrong answer\n",
    "* The more quality training data you can gather, the better results you may get\n",
    "* Quality training data is expensive; sometimes can only hire someone on crowdsourcing platforms to manually tag the data \n",
    "* Bootstrapping: a way to try to make tagging more efficient by using your own Machine Learning model to help you\n",
    "* Use  a validation set to tune the parameters; see [cross validation on wikipedia](https://en.wikipedia.org/wiki/Cross-validation)\n"
   ]
  },
  {
   "cell_type": "markdown",
   "metadata": {},
   "source": [
    "# Performance Metrics\n",
    "\n",
    "* Accuracy: If a model returns the correct output on 95% of the testing examples, the accuracy is 95%\n",
    "* Training and testing sets of instances *must* be disjoint\n",
    "* Overfitting: Having very good predicted results in your training data, but get poor results in a separate testing set\n",
    "* To avoid overfitting, use a simpler model with less features, simplify the model and use a bigger and more representative training set.\n",
    "* Metrics for classification: \n",
    "    * Precision and Recall tell you how well the algorithm performs on each class\n",
    "    * Confusion matrices, see where our classification algorithm is 'confusing' predictions.\n",
    "* Metrics for regression and clustering: ???\n"
   ]
  },
  {
   "cell_type": "markdown",
   "metadata": {},
   "source": [
    "# Computational Resources\n",
    "\n",
    "* Need to run multiple trainings until getting decent results and retraining the model to cover new instances and keep improving its accuracy.\n",
    "* To get fast results from training huge models, need various GBs of RAM and multi-core machines to parallelize the processing\n",
    "* Use Python and Scikit-learn\n"
   ]
  },
  {
   "cell_type": "markdown",
   "metadata": {},
   "source": [
    "# 5 Steps\n",
    "\n",
    "\n",
    "* Collecting data: Get raw (relevant) data with good variety, density and volume\n",
    "    \n",
    "* Preparing the data: Determining the quality of data and fix issues such as missing data and treatment of outliers. See [exploratory data analysis](https://en.wikipedia.org/wiki/Exploratory_data_analysis)\n",
    "\n",
    "* Training a model: Train the model with training data\n",
    "\n",
    "* Evaluating the model: Test the accuracy with test data\n",
    "\n",
    "* Improving the performance: Try different models or introducing different features to augment the efficiency\n"
   ]
  },
  {
   "cell_type": "markdown",
   "metadata": {},
   "source": [
    "# Applications\n",
    "\n",
    "* Image Processing\n",
    "    \n",
    "    * Image tagging: facebook learns from the photos you manually tag.\n",
    "    * OCR \n",
    "    * Self-driving cars\n",
    " \n",
    "* Text Analysis\n",
    "\n",
    "    * Spam filtering: classification\n",
    "    * Sentiment Analysis\n",
    "    * Information Extraction: extracting addresses, entities, keywords, etc.\n",
    " \n",
    "* Data Mining (mining useful information from a huge table in a database)\n",
    "\n",
    "    * Anomaly detection: detect outliers, like credit card fraud detection, which transactions are outliers from the usual purchasing pattern?\n",
    "    * Association rules: beer and diaper, information for marketing purposes, diabetes and heart disease\n",
    "    * Grouping: grouping users behaviour in a SaaS platform\n",
    "    * Predictions: credit score of new customers\n",
    "\n",
    "* Retail\n",
    "\n",
    "    * Which product is fast/slow moving? Which product should be introduced/removed?\n",
    "\n",
    "* Video Games & Robotics\n",
    "\n",
    "    * Reinforcement learning\n",
    "    "
   ]
  },
  {
   "cell_type": "markdown",
   "metadata": {},
   "source": [
    "# Other\n",
    "\n",
    "* Popular algorithms\n",
    "\n",
    "    * SVM\n",
    "    * Probabilistic Models\n",
    "    \n",
    "        * Get predictions with degree of certainty\n",
    "\n",
    "    * Deep Learning: \n",
    "\n",
    "        * Based on ANN, deep learning develops new structures with deeper layers and improved the learning algorithms to not only try to learn but also to build structures to represent the most important features automatically with higher levels of abstraction.\n",
    "\n",
    "\n",
    "* Difference between ML & Data Mining: Data Mining deals with searching specific information like beer and diaper. And Machine Learning solely concentrates on performing a given task. \n",
    "\n",
    "* Book: Machine Learning by Tom Mitchell\n",
    "\n",
    "> A computer program is said to learn to perform a task T from experience E, if its performance at task T, as measured by a performance metric P, improves with experience E over time.\n",
    "\n",
    "\n",
    "* Which type of ML algorithm to use? \n",
    "    \n",
    "    * Supervised or unsupervised? Classification, regression or clustering? Deep Learning, SVM, Naive Bayes… which one is the best? \n",
    "    * All depends on the problem and data; try and error\n",
    "    \n",
    "* AI companies\n",
    "\n",
    "    * clarifai\n",
    "    * snips (app)\n",
    "    * Wade & Wandy\n",
    "    "
   ]
  },
  {
   "cell_type": "markdown",
   "metadata": {},
   "source": [
    "# Reference\n",
    "\n",
    "* [MonkeyLearn Online Text Analysis](http://monkeylearn.com/) \n",
    "* [A Gentle Guide to Machine Learning](https://blog.monkeylearn.com/a-gentle-guide-to-machine-learning/)\n",
    "* [Introduction to Machine Learning for Developers](http://blog.algorithmia.com/introduction-machine-learning-developers/)\n",
    "* [Machine Learning basics for a newbie](https://www.analyticsvidhya.com/blog/2015/06/machine-learning-basics/)"
   ]
  }
 ],
 "metadata": {
  "anaconda-cloud": {},
  "kernelspec": {
   "display_name": "Python [Root]",
   "language": "python",
   "name": "Python [Root]"
  },
  "language_info": {
   "codemirror_mode": {
    "name": "ipython",
    "version": 2
   },
   "file_extension": ".py",
   "mimetype": "text/x-python",
   "name": "python",
   "nbconvert_exporter": "python",
   "pygments_lexer": "ipython2",
   "version": "2.7.12"
  }
 },
 "nbformat": 4,
 "nbformat_minor": 0
}
