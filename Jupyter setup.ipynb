{
 "cells": [
  {
   "cell_type": "markdown",
   "metadata": {},
   "source": [
    "# Change Startup Folder\n",
    "\n",
    "Create a bat file with the following content: \n",
    "1. cd path_to_the_folder\n",
    "2. jupyter notebook"
   ]
  },
  {
   "cell_type": "markdown",
   "metadata": {},
   "source": [
    "# Add Table of Contents\n",
    "\n",
    "See https://github.com/minrk/ipython_extensions\n",
    "\n",
    "In cmd type in the following: \n",
    "\n",
    "    $ jupyter nbextension install --user https://rawgithub.com/minrk/ipython_extensions/master/nbextensions/toc.js\n",
    "\n",
    "    $ curl -L https://rawgithub.com/minrk/ipython_extensions/master/nbextensions/toc.css > C:/Users/yuan/AppData/Roaming/jupyter/nbextensions/toc.css\n",
    "\n",
    "    $ jupyter nbextension enable toc\n",
    "\n",
    "where 'C:/Users/yuan/AppData/Roaming/jupyter' is the jupyter data directory which can be found by typing in cmd\n",
    "\n",
    "    $ jupyter --data-dir\n",
    " \n",
    "No clue why the following doesn't work as github said: \n",
    "\n",
    "    $ curl -L https://rawgithub.com/minrk/ipython_extensions/master/nbextensions/toc.css > (jupyter --data-dir)/nbextensions/toc.css"
   ]
  },
  {
   "cell_type": "markdown",
   "metadata": {},
   "source": [
    "# Markdown Cheatsheet\n",
    "\n",
    "https://github.com/adam-p/markdown-here/wiki/Markdown-Cheatsheet"
   ]
  },
  {
   "cell_type": "markdown",
   "metadata": {},
   "source": [
    "# Jupyter Shortcuts\n",
    "\n",
    "https://www.cheatography.com/weidadeyue/cheat-sheets/jupyter-notebook/pdf/"
   ]
  },
  {
   "cell_type": "markdown",
   "metadata": {},
   "source": [
    "# Spyder Change Working Directory\n",
    "\n",
    "* Copy and paste in Global working directory\n",
    "* Hit 'set as current console's working directory' bottom on the right; Spyder will remember it"
   ]
  },
  {
   "cell_type": "markdown",
   "metadata": {},
   "source": [
    "# Cling Setup (Haven't Tried Yet)\n",
    "\n",
    "To set up cling on windows, first need MSYS Git for Windows and Visual Studio 2012\n",
    "\n",
    "https://github.com/root-mirror/cling/blob/master/tools/packaging/README.md"
   ]
  }
 ],
 "metadata": {
  "anaconda-cloud": {},
  "kernelspec": {
   "display_name": "Python [Root]",
   "language": "python",
   "name": "Python [Root]"
  },
  "language_info": {
   "codemirror_mode": {
    "name": "ipython",
    "version": 2
   },
   "file_extension": ".py",
   "mimetype": "text/x-python",
   "name": "python",
   "nbconvert_exporter": "python",
   "pygments_lexer": "ipython2",
   "version": "2.7.12"
  }
 },
 "nbformat": 4,
 "nbformat_minor": 0
}
