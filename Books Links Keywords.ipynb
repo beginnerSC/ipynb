{
 "cells": [
  {
   "cell_type": "markdown",
   "metadata": {},
   "source": [
    "# Books\n",
    "\n",
    "| Title | Author | Description | \n",
    "|---|---|---|\n",
    "| Programming Pearls | | Data structure with logic, when & how to use it\n",
    "|Fixed Income Securities 1st ED| Bruce Tuckman| |\n",
    "|Introduction to Stochastic Calculus with Applications| Fima C Klebaner| |\n",
    "||Hull & White||\n",
    "||Fabio||\n",
    "||Leif Andersen| 工貝書，沒人從頭讀到尾|\n",
    "|世界金融史3000年| 陳雨露, 楊棟| |"
   ]
  },
  {
   "cell_type": "markdown",
   "metadata": {},
   "source": [
    "# Links\n",
    "\n",
    "[Bloomberg Blog mentioned by David](http://www.bloomberg.com/view/contributors/ARbTQlRLRjE/matthew-s-levine)\n",
    "\n",
    "[Best Jupyter Notebooks](http://nb.bianp.net/sort/views)"
   ]
  },
  {
   "cell_type": "markdown",
   "metadata": {},
   "source": [
    "# Keywords\n",
    "\n",
    "Google Summer of Code\n",
    "\n",
    "Leif: e-trading, risk-management, VaR, collateral, capital, regulatory, CVA, margin. \n",
    "\n",
    "現在重要的論文都是這個方向的，目前沒有好書，只能看 paper。"
   ]
  }
 ],
 "metadata": {
  "anaconda-cloud": {},
  "kernelspec": {
   "display_name": "Python [Root]",
   "language": "python",
   "name": "Python [Root]"
  },
  "language_info": {
   "codemirror_mode": {
    "name": "ipython",
    "version": 2
   },
   "file_extension": ".py",
   "mimetype": "text/x-python",
   "name": "python",
   "nbconvert_exporter": "python",
   "pygments_lexer": "ipython2",
   "version": "2.7.12"
  }
 },
 "nbformat": 4,
 "nbformat_minor": 0
}
