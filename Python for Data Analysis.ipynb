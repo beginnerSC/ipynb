{
 "cells": [
  {
   "cell_type": "markdown",
   "metadata": {},
   "source": [
    "# 5. Getting Started with pandas"
   ]
  },
  {
   "cell_type": "code",
   "execution_count": 75,
   "metadata": {
    "collapsed": false
   },
   "outputs": [
    {
     "name": "stdout",
     "output_type": "stream",
     "text": [
      "\n"
     ]
    }
   ],
   "source": [
    "from pandas import Series, DataFrame\n",
    "import pandas as pd\n",
    "import numpy as np\n",
    "\n",
    "ss = Series([4, 7, -5, 3], index=['d', 'b', 'a', 'c'])\n",
    "ss1 = Series({'Ohio': 35000, 'Texas': 71000, 'Oregon': 16000, 'Utah': 5000})\n",
    "\n",
    "# can be altered in place\n",
    "ss.name = 'series name'\n",
    "ss.index.name = 'index name'\n",
    "ss.index = ['d', 'b', 'a', 'c']\n",
    "\n",
    "# values is read only \n",
    "ss.values\n",
    "\n",
    "# get, set, slicing. With labels the endpoint is inclusive\n",
    "ss[1]\n",
    "ss[[1, 3]]\n",
    "ss[2:4]\n",
    "ss['c']\n",
    "ss[['c', 'a', 'd']]\n",
    "ss['b':'c']\n",
    "\n",
    "# selection\n",
    "ss[ss > 3]\n",
    "\n",
    "# membership\n",
    "'b' in ss\n",
    "\n",
    "ss*2\n",
    "np.exp(ss)\n",
    "\n",
    "# align index automatically; by default a+b = NaN if either a or b is missing\n",
    "ss + ss1\n",
    "\n",
    "ss.isnull()\n",
    "\n",
    "# reindexing with Series with reindex or loc; Auto-alignment with specified order\n",
    "# with reindex can also specify fill_value or method (ffill for forward fill and bfill for backward). \n",
    "# If not specified, get NaN\n",
    "ss = ss.reindex(['a', 'b', 'c', 'd', 'e'])\n",
    "ss = ss.reindex(['a', 'b', 'c', 'd', 'e', 'f'], fill_value=0)\n",
    "ss = ss.loc[['a', 'b', 'c', 'd', 'e', 'f', 'g', 'h']]\n",
    "\n",
    "# Arithmetic and data alignment\n",
    "# by default get NaN if sum over at least one missing value\n",
    "# if use .add method, can treat missing values as fill_value\n",
    "ss1 = Series([1, 2, 3], index=['a', 'b', 'c'])\n",
    "ss2 = Series([4, 5, 6], index=['b', 'c', 'd'])\n",
    "ss1 + ss2\n",
    "ss1.add(ss2, fill_value=0)\n",
    "\n",
    "print"
   ]
  },
  {
   "cell_type": "code",
   "execution_count": 7,
   "metadata": {
    "collapsed": false
   },
   "outputs": [
    {
     "data": {
      "text/plain": [
       "d    True\n",
       "b    True\n",
       "a    True\n",
       "c    True\n",
       "Name: series name, dtype: bool"
      ]
     },
     "execution_count": 7,
     "metadata": {},
     "output_type": "execute_result"
    }
   ],
   "source": [
    "pd.isnull(ss)\n",
    "pd.notnull(ss)"
   ]
  },
  {
   "cell_type": "code",
   "execution_count": 80,
   "metadata": {
    "collapsed": false
   },
   "outputs": [
    {
     "name": "stdout",
     "output_type": "stream",
     "text": [
      "\n"
     ]
    }
   ],
   "source": [
    "# When initializing a df, columns and index are in specific order if specified. If not, column can be in any order. \n",
    "# other DataFrame constructor; see Table 5-1 on p.120\n",
    "df = DataFrame(data={'state' : ['Ohio', 'Ohio', 'Ohio', 'Nevada', 'Nevada'], \n",
    "                    'year' : [2000, 2001, 2002, 2001, 2002], \n",
    "                    'pop' : [1.5, 1.7, 3.6, 2.4, 2.9]}, \n",
    "               columns=['year', 'state', 'pop', 'debt'], \n",
    "               index=['one', 'two', 'three', 'four', 'five']\n",
    "              )\n",
    "\n",
    "# can be altered in place\n",
    "df.columns\n",
    "df.columns.name\n",
    "df.index.name\n",
    "\n",
    "# values is a read only 2D numpy array\n",
    "df.values\n",
    "\n",
    "# the state column is a Series with name 'state'\n",
    "df['state']\n",
    "df.state\n",
    "\n",
    "# get rows; slicing means row slicing! \n",
    "df.loc['three']\n",
    "df[:2]\n",
    "\n",
    "# selection\n",
    "df[df['pop'] > 2]\n",
    "\n",
    "# see head or tail\n",
    "df[:10]\n",
    "df[-10:]\n",
    "df.head()\n",
    "df.tail()\n",
    "\n",
    "# set a column: with Series the data alignment is done automatically\n",
    "df['debt'] = 16.5\n",
    "df['debt'] = np.arange(5.)\n",
    "df['debt'] = Series([-1.2, -1.5, -1.7], index=['two', 'four', 'five'])\n",
    "\n",
    "# delete a column\n",
    "del df['state']\n",
    "df.drop('debt', axis=1, inplace=True)\n",
    "df.drop(['two', 'three', 'four'])\n",
    "\n",
    "df.T\n",
    "\n",
    "# reindex; With method specified (say 'ffill'), interpolation is applied to columns\n",
    "# there is also iloc which only accepts integers instead of labels\n",
    "df = df.reindex(index=['one', 'two', 'three', 'four', 'five', 'six'])\n",
    "df = df.reindex(index=['one', 'two', 'three', 'four', 'five', 'six', 'seven'], columns=['year', 'pop', 'area'])\n",
    "df = df.loc[['one', 'two', 'three', 'four', 'five', 'six', 'seven', 'eight'], ['year', 'pop', 'area', 'debt']]\n",
    "\n",
    "# swap two columns\n",
    "df[['year', 'pop']] = df[['pop', 'year']]\n",
    "\n",
    "# Arithmetic; similar to Series. There are also broadcasting with DataFrame-Series operations, skipped\n",
    "\n",
    "# specify an column as index, and the inverse operation\n",
    "df = df.set_index('year')\n",
    "df.reset_index()\n",
    "\n",
    "print"
   ]
  },
  {
   "cell_type": "code",
   "execution_count": 14,
   "metadata": {
    "collapsed": false
   },
   "outputs": [
    {
     "name": "stdout",
     "output_type": "stream",
     "text": [
      "\n"
     ]
    }
   ],
   "source": [
    "# both df.column and df.index are of index type\n",
    "type(df.columns)\n",
    "type(df.index)\n",
    "\n",
    "index = df.index\n",
    "\n",
    "# read only; the following won't work! Use rename instead e.g. rename 'one' as 'd'\n",
    "# index[1] = 'd'\n",
    "df.rename(columns={'one':'d'}, inplace=True)\n",
    "\n",
    "# slicing\n",
    "index[1:]\n",
    "\n",
    "# membership\n",
    "'year' in df.columns\n",
    "\n",
    "print"
   ]
  }
 ],
 "metadata": {
  "anaconda-cloud": {},
  "kernelspec": {
   "display_name": "Python [Root]",
   "language": "python",
   "name": "Python [Root]"
  },
  "language_info": {
   "codemirror_mode": {
    "name": "ipython",
    "version": 2
   },
   "file_extension": ".py",
   "mimetype": "text/x-python",
   "name": "python",
   "nbconvert_exporter": "python",
   "pygments_lexer": "ipython2",
   "version": "2.7.12"
  }
 },
 "nbformat": 4,
 "nbformat_minor": 0
}
