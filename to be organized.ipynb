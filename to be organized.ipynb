{
 "cells": [
  {
   "cell_type": "markdown",
   "metadata": {},
   "source": [
    "# Visual Studio"
   ]
  },
  {
   "cell_type": "markdown",
   "metadata": {},
   "source": [
    "## 最快速效能編譯\n",
    "\n",
    "屬性 → c/c++ → 程式碼產生 → 基確執行階段檢查：預設\n",
    "\n",
    "屬性 → c/c++ → 最佳化 → 最快速執行效能（/O2）\n",
    "\n",
    "屬性 → c/c++ → 一般 → 偵錯資訊格式 → 程式資料庫 (/Zi)\n",
    "\n",
    "debug 和 release 的編譯目的是不一樣的，最快速效能主要是 release 用\n"
   ]
  },
  {
   "cell_type": "markdown",
   "metadata": {},
   "source": [
    "## 不使用先行編譯標頭檔\n",
    "\n",
    "屬性 → c/c++ → 先行編譯標頭檔 → 先行編譯標頭檔：未使用\n"
   ]
  },
  {
   "cell_type": "markdown",
   "metadata": {},
   "source": [
    "## 灌 Boost\n",
    "\n",
    "下載頁，說明頁： http://www.boost.org/doc/libs/1_57_0/more/getting_started/windows.html\n",
    "\n",
    "1. 下載 boost_1_57_0.zip（105 mb），解壓縮丟到 C:\\Program Files\\boost\\boost_1_57_0\n",
    "2. 專案 → 屬性 → 組態屬性 → C/C++ → 一般 → 其他 Include 目錄，加入\n",
    "\n",
    "> C:\\Program Files\\boost\\boost_1_57_0\n",
    "\n",
    "3. 專案 → 屬性 → 組態屬性 → C/C++ → 先行編譯標頭檔，改成未使用先行編譯標頭檔\n",
    "4. 專案 → 屬性 → 連結器 → 其它程式庫目錄，加入\n",
    "\n",
    "> C:\\Program Files\\boost\\boost_1_57_0\\lib\n"
   ]
  },
  {
   "cell_type": "markdown",
   "metadata": {},
   "source": [
    "## 灌 FFTW\n",
    "\n",
    "1. 去 http://www.fftw.org/install/windows.html 抓 Precompiled FFTW 3.3.4 Windows DLLs\n",
    "\n",
    "2. 丟到 C:\\Program Files (x86)\\Microsoft Visual Studio 10.0\\VC\\bin 之下\n",
    "\n",
    "3. VC → 工具 → visual studio 命令提示字元\n",
    "\n",
    ">\tlib /def:libfftw3-3.def\n",
    "\n",
    ">\tlib /def:libfftw3f-3.def\n",
    "\n",
    ">\tlib /def:libfftw3l-3.def\n",
    "\n",
    "\n",
    "4. 專案 → 屬性 → 連結器 → 輸入 → 其它相依性，加入 \n",
    "\n",
    ">\tlibfftw3f-3.lib\n",
    "\n",
    ">\tlibfftw3l-3.lib\n",
    "\n",
    ">\tlibfftw3-3.lib\n",
    "\n",
    "5. 在自己的專案裡建一個新的 header file -- fftw3.h，把抓下來的 fftw3.h 內容貼上去\n",
    "\n",
    "6. 去 http://people.sc.fsu.edu/~jburkardt/c_src/fftw3/fftw3.html 抓 c 範例\n"
   ]
  },
  {
   "cell_type": "markdown",
   "metadata": {},
   "source": [
    "# C++"
   ]
  },
  {
   "cell_type": "markdown",
   "metadata": {},
   "source": [
    "在 c++03 裡 ctor 不能被繼承，也不能 call 別的 ctor，c++11 可以\t\n",
    "\n",
    "http://stackoverflow.com/questions/347358/inheriting-constructors\n",
    "\n",
    "template member fnc 不能寫在不同的 cpp 檔裡，linker 看不到\t\n",
    "\n",
    "http://stackoverflow.com/questions/16903788/template-class-constructor\n"
   ]
  },
  {
   "cell_type": "markdown",
   "metadata": {},
   "source": [
    "# 其它"
   ]
  },
  {
   "cell_type": "markdown",
   "metadata": {},
   "source": [
    "## 綠卡\n",
    "\n",
    "能自己辦的只有 EB1-A 和 EB-2 NIW\n",
    "\n",
    "OPT 期間可辦？（中文）什麼是 EB1-A 和 EB-2 NIW？（英文）\n",
    "\n",
    "http://www.sunlawfirm.us/EB1B_Article20.htm\n",
    "\n",
    "梁勇律師事務所\n",
    "\n",
    "http://www.lianglaw.com/niw.htm\n"
   ]
  },
  {
   "cell_type": "markdown",
   "metadata": {},
   "source": [
    "## 珍珠的保存\n",
    "\n",
    "珍珠剛煮起來時，一定要先撈起來拌糖\n",
    "這樣可保持他的Ｑ度，不會變軟\n",
    "然後放涼，放入真空袋，再放冰箱\n",
    "要吃的時後，再放入熱水再煮一下，這樣就可以了\n",
    "\n",
    "https://tw.knowledge.yahoo.com/question/question?qid=1610012711513\n",
    "\n",
    "\n",
    "我以前也是卖奶茶的，这个问题问我算问对了。煮好的珍珠如果要放隔夜的话最好是用糖稀或者蜂蜜浸泡。不过相对来说蜂蜜成本很高，我一般都是用糖稀，糖稀一般1元5左右一斤，卖食品添加剂的地方都有。\n",
    "\n",
    "這應該是正解\n",
    "\n",
    "放在同樣滲透壓的業體中\n",
    "\n",
    "早上煮好的热珍珠沥干冷水洗净浸放在净水里待用 。应该不会膨胀的，不粘在一起，如果煮好的热珍珠不处理要出现您说膨胀。 补充： 千万不要放在糖水里，珍珠会变质的，出现粘糊的，等吃的时候放糖水，\n",
    "\n",
    "不過也有這種說法，可能要自己做看看\n"
   ]
  },
  {
   "cell_type": "markdown",
   "metadata": {},
   "source": [
    "## 取消啟動\n",
    "\n",
    "win 鍵，然後輸入 msconfig，出現系統設定後選啟動那欄，然後看看啟動項目裡，有沒有什麼xxx加速器或是快速xxx的，把打勾取消掉，順便看一下，命令是指向那個軟體造成的。"
   ]
  },
  {
   "cell_type": "markdown",
   "metadata": {},
   "source": [
    "## 30-60-90\n",
    "\n",
    "http://www.right.com/wps/wcm/connect/right-us-en/home/thoughtwire/categories/career-work/creating-a-30-60-90-day-plan-to-secure-the-job/"
   ]
  },
  {
   "cell_type": "markdown",
   "metadata": {},
   "source": [
    "## DOS 輸出重新導向\n",
    "\n",
    "輸出導向某個檔，覆寫\n",
    "\n",
    "> cd C:\\Users\\yuan\\Desktop\\Umiss course\\TableMaker\\Debug \n",
    "\n",
    "> TableMaker > C:\\Users\\yuan\\Desktop\\output.txt\n",
    "\n",
    "輸出導向某個檔，附加\n",
    "\n",
    "> cd C:\\Users\\yuan\\Desktop\\Umiss course\\TableMaker\\Debug \n",
    "\n",
    "> TableMaker >> C:\\Users\\yuan\\Desktop\\output.txt\n",
    "\n",
    "輸出導向剪貼簿\n",
    "\n",
    "> cd C:\\Users\\yuan\\Desktop\\Umiss course\\TableMaker\\Debug \n",
    "\n",
    "> TableMaker | clip\n",
    "\n",
    "存成 bat 檔\n"
   ]
  },
  {
   "cell_type": "markdown",
   "metadata": {},
   "source": [
    "## Grand Oasis Cancun"
   ]
  },
  {
   "cell_type": "markdown",
   "metadata": {},
   "source": [
    "## Compiling TeX to C Code\n",
    "\n",
    "* https://github.com/mtarek/compitex/blob/master/README\n",
    "* http://stackoverflow.com/questions/7886553/latex-formula-to-c-c-code-converter\n",
    "\n",
    "go back and forth between python and latex \n",
    "\n",
    "* http://stackoverflow.com/questions/3867028/converting-a-python-numeric-expression-to-latex\n",
    "* https://github.com/augustt198/latex2sympy\n"
   ]
  },
  {
   "cell_type": "markdown",
   "metadata": {},
   "source": [
    "## Writing a Good Title\n",
    "\n",
    "http://meta.stackexchange.com/questions/10647/how-do-i-write-a-good-title\n"
   ]
  },
  {
   "cell_type": "markdown",
   "metadata": {},
   "source": [
    "## 灌 beamer\n",
    "\n",
    "MiKTeX 灌好的時候裡面已經有 beamer，但是編譯不過。\n",
    "\n",
    "* 去 C:\\texmf\\tex\\latex\\beamer\\themes\\inner 裡把\n",
    "\n",
    "\t% Some images:\n",
    "\n",
    "\t\\pgfdeclareimage[width=14pt,height=12pt]{beamericonbook}{beamericonbook}\n",
    "\t\\pgfdeclareimage[width=14pt,height=12pt]{beamericonbookshaded}{beamericonbook.20}\n",
    "\t\\pgfaliasimage{beamericonbook.!20opaque}{beamericonbookshaded}\n",
    "\t\\pgfaliasimage{beamericonbook.!15opaque}{beamericonbookshaded}\n",
    "\t\\pgfaliasimage{beamericonbook.!10opaque}{beamericonbookshaded}\n",
    "\t\\pgfaliasimage{beamericonbook.!5opaque}{beamericonbookshaded}\n",
    "\t\\pgfaliasimage{beamericonbook.!2opaque}{beamericonbookshaded}\n",
    "\t\\pgfdeclareimage[width=11pt,height=14pt]{beamericonarticle}{beamericonarticle}\n",
    "\t\\pgfdeclareimage[width=11pt,height=14pt]{beamericonarticleshaded}{beamericonarticle.20}\n",
    "\t\\pgfaliasimage{beamericonarticle.!20opaque}{beamericonarticleshaded}\n",
    "\t\\pgfaliasimage{beamericonarticle.!15opaque}{beamericonarticleshaded}\n",
    "\t\\pgfaliasimage{beamericonarticle.!10opaque}{beamericonarticleshaded}\n",
    "\t\\pgfaliasimage{beamericonarticle.!5opaque}{beamericonarticleshaded}\n",
    "\t\\pgfaliasimage{beamericonarticle.!2opaque}{beamericonarticleshaded}\n",
    "\n",
    "   這些全部 mark 起來（因為沒有 beamericonbook.pdf 跟 beamericonbook.20.pdf，抓來也不知道要丟哪）\n",
    "\n",
    "* WinEdt: Accessories → MiKTeX → MiKTeX Options → General → Refresh Now 就可以編譯了。\n",
    "\n",
    "* 圖檔只能放 jpg 檔，要用 Accessories → PDF → PDF TeXify（alt + a, p, x） 編譯，不能透過 dvi 檔，透過 dvi 檔編出來會亂掉\n"
   ]
  },
  {
   "cell_type": "markdown",
   "metadata": {},
   "source": [
    "## Advice to FSU Students\n",
    "\n",
    "1. Know the math \n",
    "1. Know how to program \n",
    "2. Try to say yes to all opportunities to learn new things \n",
    "3. Work on communication skill \n",
    "4. Have a clear career plan and work towards it as early as possible \n",
    "4. If you plan to go to the financial industry, then try to understand the industry as completely as possible. Who are the market players? What’s the skill set they are looking for? Always try to have a bigger picture\n",
    "4. Talk to our guests in Quant Symposium\n"
   ]
  },
  {
   "cell_type": "markdown",
   "metadata": {},
   "source": [
    "## Java Book\n",
    "\n",
    "http://www.mindviewinc.com/Books/downloads.html"
   ]
  },
  {
   "cell_type": "markdown",
   "metadata": {},
   "source": [
    "## 如何投稿"
   ]
  },
  {
   "cell_type": "markdown",
   "metadata": {},
   "source": [
    "Chi-Hua Chen\n",
    "\n",
    "    最近投上一本數學類的SCI期刊,呵呵~\n",
    "\n",
    "    Mathematical Problems in Engineering 這本 http://www.hindawi.com/journals/mpe/\n",
    "    Mathematical Problems in Engineering — An Open Access Journal    www.hindawi.com\n",
    "    \n",
    "    這本在 ISI 的劃分中同時屬於工程和數學類\n",
    "\n",
    "    秋琴一篇在 SIMPAT 這本 http://www.sciencedirect.com/science/article/pii/S1569190X1300083X\n",
    "    Modeling and simulation of the open-end equity mutual fund market in Taiwan by using...\n",
    "    www.sciencedirect.com\n",
    "\n",
    "    一篇在 ESWA 這本 http://www.sciencedirect.com/science/article/pii/S0957417414000372\n",
    "    Applying market profile theory to forecast Taiwan Index Futures market\n",
    "    www.sciencedirect.com\n",
    "    \n",
    "    我沒有問過秋琴本人,但我在Google Scholar看到她有4篇期刊\n",
    "\n",
    "    2篇是剛才說的那些\n",
    "\n",
    "    另外2篇就不是SCI了\n",
    "    \n",
    "Chun-Yuan Chiu\n",
    "\n",
    "    其實我一直都不知道怎麼投稿，順便問你一下吧\n",
    "    \n",
    "    假設我要投這本要怎麼做？\n",
    "    http://www.tandfonline.com/loi/rquf20#.U6JPb_mSx-4\n",
    "    Taylor & Francis Online :: Quantitative Finance\n",
    "    www.tandfonline.com\n",
    "\n",
    "    每一本的流程不一樣吧？\n",
    "    \n",
    "Chi-Hua Chen\n",
    "\n",
    "    大同小異唷~\n",
    "\n",
    "    主要依據出版社\n",
    "\n",
    "    比較常見的出版社有\n",
    "\n",
    "    Elsevier\n",
    "\n",
    "    Springer\n",
    "\n",
    "    Wiley\n",
    "\n",
    "    Taylor\n",
    "\n",
    "    SAGE\n",
    "\n",
    "    IEEE\n",
    "\n",
    "    IET\n",
    "\n",
    "    ACM\n",
    "\n",
    "    我想我們的領域大概是這些\n",
    "\n",
    "    而你剛才那本是Taylor出版社\n",
    "\n",
    "    裡面有一頁會是作者指引,可以參考裡面的內容 裡面會寫一些規範事項,包含頁數或字數限制,以及是否需雙向匿名 http://www.tandfonline.com/action/authorSubmission?journalCode=rquf20&page=instructions#.U6JP_vmSx-4\n",
    "    Taylor & Francis Online :: Quantitative Finance - Instructions for authors\n",
    "    www.tandfonline.com\n",
    "    Use these instructions if you are preparing a manuscript to submit to Quantitative Finance . To explore our journals portfolio, visit http://www.tandfonline.com/ , and for more author resources, visit our Author Services website.\n",
    "\n",
    "    一般來說像剛才說的那些知名出版社都會讓作者做太多跟論文內容無關的事(例如: 排版)\n",
    "\n",
    "    他們只會要求字數限制那些\n",
    "\n",
    "    以剛才那本來說\n",
    "\n",
    "    A typical manuscript will not exceed 35 pages including references and footnotes.\n",
    "\n",
    "    主要有頁數限制\n",
    "\n",
    "    所以投稿出去時可以用單欄單倍行高,不用太在意排版\n",
    "\n",
    "    之後投上時出版社會有專責人員負責排版\n",
    "\n",
    "    但如果是比較小的出版社或研討會,則會要求作者要自行排版\n",
    "\n",
    "    不過一般來說正規期刊不太需要作者排版\n",
    "    \n",
    "    都準備好文章後,可以到線上投稿系統投稿 若第一次使用需註冊一個帳號密碼 以下是QF那本的投稿系統 http://mc.manuscriptcentral.com/rquf\n",
    "    mc.manuscriptcentral.com\n",
    "    mc.manuscriptcentral.com\n",
    "    You have been directed to this page because either your browser or operating system does not meet our minimum requirements. Please use the links and instructions below to fix the problems, and try visiting the site again. Please also verify the web address entered in your browser's address bar. You…\n",
    "    \n",
    "    Taylor出版社是用ScholarOne投稿系統\n",
    "\n",
    "    而像IEEE那些也都是用ScholarOne投稿系統\n",
    "\n",
    "    所以操作上是一樣的\n",
    "    \n",
    "    但如果是Elsevier和Springer就有自己的投稿系統,所以操作上不同\n",
    "\n",
    "    還是看您什麼時候有空,我們再約個時間用skype\n",
    "\n",
    "    以skype通話的方式跟您說明\n",
    "    \n",
    "    這個網站可以讓你查期刊是否為SCI或SSCI 以剛才那本來說它就同時屬於SCIE和SSCI http://ip-science.thomsonreuters.com/cgi-bin/jrnlst/jlresults.cgi?PC=MASTER&ISSN=1469-7688\n",
    "    Journal Search - IP & Science - Thomson Reuters\n",
    "    ip-science.thomsonreuters.com\n",
    "    The Master Journal List includes all journal titles covered in Science products.\n",
    "    \n",
    "    而老師們通常認定SCIE=SCI\n",
    "    \n",
    "Chun-Yuan Chiu\n",
    "\n",
    "    SCIE 跟 SCI 有什麼不一樣？\n",
    "    \n",
    "Chi-Hua Chen\n",
    "\n",
    "    發表只是研究成果的一種展示方式\n",
    "\n",
    "    但經過這幾年我發覺早早把學位拿到也是有好處的\n",
    "\n",
    "    我的認為是1980年後的期刊都是收錄到SCIE,而1980前的期刊才有在SCI\n",
    "\n",
    "    「SCI」全名「Science Citation Index」，是該產品早期紙本與光碟版時代的名稱。現改為線上版後，由於收錄期刊數增加，而更名為「SCIE」，當中的「E」即為「Expanded」。\n",
    "\n",
    "    http://tul.blog.ntu.edu.tw/archives/8333\n",
    "    SCI 與 SCIE 的區別 | 臺大圖書館參考服務部落格\n",
    "    tul.blog.ntu.edu.tw\n",
    "\n",
    "Chi-Hua Chen\n",
    "\n",
    "    嗯\n",
    "\n",
    "    因為是否具備\"博士\"身份\n",
    "\n",
    "    可以做的事情不同\n",
    "\n",
    "    例如,我現在可以當共同指導教授,其實也具備申請國科會計畫的資格"
   ]
  },
  {
   "cell_type": "markdown",
   "metadata": {},
   "source": [
    "## 好可憐米修\n",
    "\n",
    "\n",
    "你不要以為每個人都可以用時間去補所有的東西\n",
    "\n",
    "有的時候是你想做 但就是做不到 或者心裡就是不想做 不是每個人都跟你一樣 喜歡一整天都在讀書\n",
    "\n",
    "也不是每天都在讀書才叫做有價值、有能力\n",
    "\n",
    "你不要把每個人的生活模式都套上你的標準\n",
    "\n",
    "不要把每個人的念書方式都套上你的\"理想\"方法\n",
    "\n",
    "我已經很努力在跟\n",
    "\n",
    "跟到連同學都說我沒有 social life 嗎\n"
   ]
  },
  {
   "cell_type": "markdown",
   "metadata": {},
   "source": [
    "## ICE Prototype\n",
    "\n",
    "我們有很類似的流程 但是prototype是用 VBA寫 好處是非常容易展示給高層看 數學式 演算法也可以直接寫在spreadsheets 中 其實甚至可以呼叫後端的Java lib我也拜這點所賜 有以前沒有過的學習速度 但是VBA仍有其缺點 我們有考慮要改用其他語言開發prototype"
   ]
  },
  {
   "cell_type": "markdown",
   "metadata": {},
   "source": [
    "## Job Hunting\n",
    "\n",
    "Job Search Central | SIBL/NYPL Career Coaching \n",
    "http://www.genbook.com/bookings/slot/reservation/30075466/?bookingContactId=1880817344&category=71796928\n",
    "\n",
    "NYPL: Job search and resume writing classed and programs\n",
    "http://www.nypl.org/help/getting-oriented/for-job-seekers/programs\n",
    "\n",
    "培養可轉用技能的好處在於可使你適應於多個領域上，這樣的技巧能增加你的市場性(marketability)，且協助你消化其他領域知識時能更加的快速。\n",
    "可轉用技能就和人格特質相同，透過自己學習到的可轉用技能也會是獨一無二的，在於已融合了自身經驗和內化轉換的獨有技能，別人難以偷去。而學習方式可以從團隊合作、義工、擔任班級的幹部或是兼職工作都是可取得的途徑之ㄧ\n",
    "五項技能\n",
    "\n",
    "* 軟技能(soft skills)-此技巧能協助你溝通、影響和激勵他人,包含委託、指導/輔導能力,聆聽,展示和合作技巧及領導技能\n",
    "* 分析能力(Analytical skills)-指的是問題解決能力、數據收集和分析、需求評估、創造力和風險分析技巧\n",
    "* 專業能力(Technical skills)-指的是掌握在手中的專業技巧,如工程師可應用套裝軟體或程式達成工作目標\n",
    "* 組織能力(Organizational skills)-此技巧反應你的規劃能力,如掌握資料分類、管理專案、記錄和任務。例如包括工作任務優先順序、時間管理、風險管理、資源管理和協同能力\n",
    "* 工作職場能力(Workplace skills)-這些技巧反應你的工作態度和職場角色。例如誠信(integrity)、可靠度(reliability)、守時(punctuality)、勤奮(diligence)、決策能力(decision-making ability)和團隊合作(teamwork)\n",
    "\n",
    "不論已經工作多久,應重新審視自己在職場或工作上的定位,要思考的是,當你脫掉專業能力以後,到底還剩什麼?是否有腹案,是否有第二專長?找出自身哪些能力在轉換職務時還能持續運用到,這類的技能最需優先牢牢掌握住,如果沒有也只要掌握學習技巧,儘可能減少自己在轉換職務後的適應時間。平均每人一生中會換3-5份工作或從技術職轉任管理職,換份工作換個腦袋,除了解換位思考的重要,也要體認到年紀越長,公司?你的適應時間也越短。因此培養自己的可轉用技能，讓自己具備轉換能力，不僅可穩固自己無法取代的地位,更是準備一個可幫助自己向上踏的墊腳石。\n",
    "\n",
    "MBAtics"
   ]
  },
  {
   "cell_type": "markdown",
   "metadata": {},
   "source": [
    "## Quant 分類\n",
    "\n",
    "http://albertye.blogspot.com/2010/01/quant_24.html\n",
    "\n",
    "Quant 其實是 quantitative analyst 的簡稱，在我看來，所有和數據打交道的職位都可以叫自己 quant。不過通常大家所說的礦，就是特指街上投行里面的礦工。所以我先從這個“最正宗的”礦工開始說。\n",
    "\n",
    "1。投行的第一類quant，其實裡面又分兩類，quant developer和desk quant。 developer更看重編程技術，因為他們的主要工作就是編程。但是不同於IT，他們需要編寫一些model層面上的程序，包括testing之類。一般不直接接觸業務。 desk quant，顧名思義，就是在trading desk上，幫助trader&sales做一些pricing，hedging advising，看他們book risk的事情，需要熟悉業務，也要編程，但一般不會特別複雜-基本上都是由原型然後拿來修改一下就可以馬上投入使用這樣。其實還有第三類，就是像Gabillion這類的牛人，大多是大學教授級，真正鑽研model的，有了什麼新的方法想推廣到業界。這種都是core quant，沒有junior的職位,也不太可能從下面升上去（其實搞研究真的要在學校搞，金融圈這麼功利的地方沒時間也沒精力研究什麼東西，主要是拿現成的來用。這就是為什麼通常從小礦做起的不可能變成core quant)\n",
    "\n",
    "2.投行的第二類quant，已經不算前台了。他們是做model validation。就是前台礦工針對某個新想法做了個model，然後要交給他們審批。這個工作比較有意思的地方是可以看到不同產品的模型。缺點是， 雖說是審批，他們並不能評判這個模型做得對不對，只能說這個與現有的模型比較是不是兼容。\n",
    "\n",
    "3。 buyside的quant，就是fund 裡的礦工。需要很多統計知識，因為要管理portfolio的performance, risk之類。可能還有別的，但是我當初面試告訴我的就是基本這樣。和我想做的礦不太一樣所以我就沒去。\n",
    "\n",
    "4。業界的quant，比如證券公司啊，石油公司阿，就是和投行做同樣產品的公司的礦。這個和投行的也很不一樣，因為投行里面的礦主要針對衍生品，而對業界公司來說，他們主流是產品本身，不過也有向衍生品發展的趨勢，所以具體留待版上BBQ同學補充。\n",
    "\n",
    "最後，我想說明一下這些都是我的看法，但是裡面可能很多地方說的不對，歡迎大家指出。還有我個人覺得目前中國還是沒有真正意義quant，甚至短時間內都不可能有，我們不得不承認這方面和國外的差距。如果真的有適和IB礦工的職位，一定告訴我，我現在就等著中國這方面發展了然後有機會跳槽回國。 ：）\n",
    "\n",
    "轉載http://quanter08.blogspot.com/\n"
   ]
  },
  {
   "cell_type": "markdown",
   "metadata": {},
   "source": [
    "## 查理說\n",
    "\n",
    "    developer -> senior -> principle -> director\n",
    "    有階梯要爬的\n",
    "    大公司的principle就是很多ENGINEER的終點了\n",
    "    已經超高了\n",
    "    年薪多少\n",
    "\n",
    "    不知道\n",
    "\n",
    "    但是20W跑不掉的\n",
    "\n",
    "Chun-Yuan Chiu\n",
    "\n",
    "    教職的終點呢？\n",
    "\n",
    "Hung-Sheng Liao\n",
    "\n",
    "    你說$?\n",
    "\n",
    "    正教授\n",
    "\n",
    "    中生俸\n",
    "\n",
    "    還有 接PROJECT\n",
    "\n",
    "    中包私囊\n",
    "\n",
    "    跟外面公司掛勾\n",
    "\n",
    "    沒有終點\n",
    "\n",
    "Chun-Yuan Chiu\n",
    "\n",
    "    好像比 principle 好？\n",
    "\n",
    "    沒有終點耶\n",
    "\n",
    "Hung-Sheng Liao\n",
    "\n",
    "    你這類比不對\n",
    "\n",
    "    教職是 助理->副->正\n",
    "\n",
    "    上班是 entry->...->principle -> BOSS\n",
    "\n",
    "    任何一行做到頂都是沒有極限的\n"
   ]
  },
  {
   "cell_type": "markdown",
   "metadata": {},
   "source": [
    "## 小白說\n",
    "\n",
    "跟你說了這麼多 只是想跟你說 你是很有才華的人 但是不要被你才華蒙蔽你的眼睛 很多事情你從你的角度看是對的 但是從其他人角度去看其實是錯的 不要成為那種只會做研究不會做人的人呀"
   ]
  }
 ],
 "metadata": {
  "anaconda-cloud": {},
  "kernelspec": {
   "display_name": "Python [Root]",
   "language": "python",
   "name": "Python [Root]"
  },
  "language_info": {
   "codemirror_mode": {
    "name": "ipython",
    "version": 2
   },
   "file_extension": ".py",
   "mimetype": "text/x-python",
   "name": "python",
   "nbconvert_exporter": "python",
   "pygments_lexer": "ipython2",
   "version": "2.7.12"
  }
 },
 "nbformat": 4,
 "nbformat_minor": 0
}
